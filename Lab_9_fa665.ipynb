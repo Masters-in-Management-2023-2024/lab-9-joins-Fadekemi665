{
  "nbformat": 4,
  "nbformat_minor": 0,
  "metadata": {
    "colab": {
      "provenance": []
    },
    "kernelspec": {
      "name": "python3",
      "display_name": "Python 3"
    },
    "language_info": {
      "name": "python"
    }
  },
  "cells": [
    {
      "cell_type": "markdown",
      "source": [
        "**TRIPS & WEATHER DATASET**"
      ],
      "metadata": {
        "id": "QXg8CAF39Spz"
      }
    },
    {
      "cell_type": "code",
      "execution_count": null,
      "metadata": {
        "colab": {
          "base_uri": "https://localhost:8080/"
        },
        "id": "EsQc_eIgwY_T",
        "outputId": "8d686e08-27a0-4e0c-f365-6f33020b837a"
      },
      "outputs": [
        {
          "output_type": "stream",
          "name": "stdout",
          "text": [
            "78704\n",
            "733\n"
          ]
        }
      ],
      "source": [
        "# Import necessary packages\n",
        "import polars as pl\n",
        "\n",
        "# Load the bike trips and weather data\n",
        "trips = pl.read_csv(\"https://raw.githubusercontent.com/philhetzel/opan5510-class9/refs/heads/main/data/bike_trips.csv\", null_values='NA')\n",
        "weather = pl.read_csv(\"https://raw.githubusercontent.com/philhetzel/opan5510-class9/refs/heads/main/data/bike_weather.csv\", null_values=['NA',''])\n",
        "\n",
        "trips = trips.with_columns(pl.col(\"date\").str.strptime(pl.Date, \"%Y-%m-%d\").alias(\"date\")) # ensure date column is typed correctly\n",
        "weather = weather.with_columns(pl.col(\"date\").str.strptime(pl.Date, \"%Y-%m-%d\").alias(\"date\")) # ensure date column is typed correctly\n",
        "print(trips.height)\n",
        "print(weather.height)"
      ]
    },
    {
      "cell_type": "code",
      "source": [
        "#Question 1, Part A\n",
        "#The trips data represent every ride taken for a bike share company.\n",
        "#The weather data represent the prevailing weather for a particular day.\n",
        "#Join the trips and weather data together using the date column. Name the resulting DataFrame trips_weather.\n",
        "\n",
        "#Insert a code block below that joins trips to weather using the date column.\n",
        "\n",
        "# Join trips and weather on the 'date' column\n",
        "trips_weather = trips.join(weather, on=\"date\", how=\"inner\")\n",
        "\n",
        "print(trips_weather.head())\n",
        "print(trips_weather.height)"
      ],
      "metadata": {
        "colab": {
          "base_uri": "https://localhost:8080/"
        },
        "id": "yyLxuy6lw2n1",
        "outputId": "810813bd-a514-429a-b354-4bd6ce4a3a90"
      },
      "execution_count": null,
      "outputs": [
        {
          "output_type": "stream",
          "name": "stdout",
          "text": [
            "shape: (5, 35)\n",
            "┌──────┬──────────┬─────────────┬─────────────┬───┬─────────────┬────────┬────────────┬────────────┐\n",
            "│ id   ┆ duration ┆ start_date  ┆ start_stati ┆ … ┆ cloud_cover ┆ events ┆ wind_dir_d ┆ zip_code_r │\n",
            "│ ---  ┆ ---      ┆ ---         ┆ on_name     ┆   ┆ ---         ┆ ---    ┆ egrees     ┆ ight       │\n",
            "│ i64  ┆ i64      ┆ str         ┆ ---         ┆   ┆ i64         ┆ str    ┆ ---        ┆ ---        │\n",
            "│      ┆          ┆             ┆ str         ┆   ┆             ┆        ┆ i64        ┆ i64        │\n",
            "╞══════╪══════════╪═════════════╪═════════════╪═══╪═════════════╪════════╪════════════╪════════════╡\n",
            "│ 4721 ┆ 3        ┆ 2013-08-29T ┆ Market at   ┆ … ┆ 4           ┆ null   ┆ 286        ┆ 94107      │\n",
            "│      ┆          ┆ 20:27:00Z   ┆ 10th        ┆   ┆             ┆        ┆            ┆            │\n",
            "│ 4812 ┆ 3        ┆ 2013-08-29T ┆ 2nd at      ┆ … ┆ 4           ┆ null   ┆ 286        ┆ 94107      │\n",
            "│      ┆          ┆ 21:30:00Z   ┆ Folsom      ┆   ┆             ┆        ┆            ┆            │\n",
            "│ 4705 ┆ 3        ┆ 2013-08-29T ┆ Golden Gate ┆ … ┆ 4           ┆ null   ┆ 286        ┆ 94107      │\n",
            "│      ┆          ┆ 20:15:00Z   ┆ at Polk     ┆   ┆             ┆        ┆            ┆            │\n",
            "│ 4841 ┆ 3        ┆ 2013-08-29T ┆ University  ┆ … ┆ 4           ┆ null   ┆ 286        ┆ 94107      │\n",
            "│      ┆          ┆ 21:48:00Z   ┆ and Emerson ┆   ┆             ┆        ┆            ┆            │\n",
            "│ 4668 ┆ 4        ┆ 2013-08-29T ┆ San         ┆ … ┆ 4           ┆ null   ┆ 286        ┆ 94107      │\n",
            "│      ┆          ┆ 19:39:00Z   ┆ Francisco   ┆   ┆             ┆        ┆            ┆            │\n",
            "│      ┆          ┆             ┆ Caltrain 2  ┆   ┆             ┆        ┆            ┆            │\n",
            "│      ┆          ┆             ┆ (330 …      ┆   ┆             ┆        ┆            ┆            │\n",
            "└──────┴──────────┴─────────────┴─────────────┴───┴─────────────┴────────┴────────────┴────────────┘\n",
            "78704\n"
          ]
        }
      ]
    },
    {
      "cell_type": "code",
      "source": [
        "#Question 1, Part B\n",
        "\n",
        "# Filter for days with a weather event (non-null 'events') and compute average duration\n",
        "avg_bad_weather = (\n",
        "    trips_weather\n",
        "    .filter(pl.col(\"events\").is_not_null())\n",
        "    .select(pl.col(\"duration\").mean().alias(\"avg_duration\"))\n",
        ")\n",
        "\n",
        "print(avg_bad_weather)"
      ],
      "metadata": {
        "colab": {
          "base_uri": "https://localhost:8080/"
        },
        "id": "vXVv8lZx7XyE",
        "outputId": "33996ac0-f919-40c6-ed67-a3d61978e246"
      },
      "execution_count": null,
      "outputs": [
        {
          "output_type": "stream",
          "name": "stdout",
          "text": [
            "shape: (1, 1)\n",
            "┌──────────────┐\n",
            "│ avg_duration │\n",
            "│ ---          │\n",
            "│ f64          │\n",
            "╞══════════════╡\n",
            "│ 10.34899     │\n",
            "└──────────────┘\n"
          ]
        }
      ]
    },
    {
      "cell_type": "markdown",
      "source": [
        "**BASEBALL DATASET**"
      ],
      "metadata": {
        "id": "psbLxzz29Rwk"
      }
    },
    {
      "cell_type": "code",
      "source": [
        "# Load baseball datasets\n",
        "Batting = pl.read_csv(\"https://raw.githubusercontent.com/philhetzel/opan5510-class9/refs/heads/main/data/Batting.csv\", null_values='NA')\n",
        "People = pl.read_csv(\"https://raw.githubusercontent.com/philhetzel/opan5510-class9/refs/heads/main/data/People.csv\", null_values='NA')\n",
        "HallOfFame = pl.read_csv(\"https://raw.githubusercontent.com/philhetzel/opan5510-class9/refs/heads/main/data/HallOfFame.csv\", null_values='NA')"
      ],
      "metadata": {
        "id": "s_oLFjbQ9gk1"
      },
      "execution_count": null,
      "outputs": []
    },
    {
      "cell_type": "code",
      "source": [
        "# Question 2, Part A\n",
        "#Join Batting with People on playerID\n",
        "stats_w_bio = Batting.join(\n",
        "    People,\n",
        "    left_on=\"playerID\",\n",
        "    right_on=\"playerID\",\n",
        "    how=\"left\"  # Use a left join to keep all batting stats\n",
        ")\n",
        "\n",
        "# Display the first few rows to verify\n",
        "stats_w_bio.head()"
      ],
      "metadata": {
        "colab": {
          "base_uri": "https://localhost:8080/",
          "height": 362
        },
        "id": "s2Dc0PgM9hDE",
        "outputId": "70083950-7b18-4af2-a5d9-6d38fe1c2225"
      },
      "execution_count": null,
      "outputs": [
        {
          "output_type": "execute_result",
          "data": {
            "text/plain": [
              "shape: (5, 47)\n",
              "┌───────────┬────────┬───────┬────────┬───┬──────────┬───────────┬────────────┬────────────┐\n",
              "│ playerID  ┆ yearID ┆ stint ┆ teamID ┆ … ┆ retroID  ┆ bbrefID   ┆ deathDate  ┆ birthDate  │\n",
              "│ ---       ┆ ---    ┆ ---   ┆ ---    ┆   ┆ ---      ┆ ---       ┆ ---        ┆ ---        │\n",
              "│ str       ┆ i64    ┆ i64   ┆ str    ┆   ┆ str      ┆ str       ┆ str        ┆ str        │\n",
              "╞═══════════╪════════╪═══════╪════════╪═══╪══════════╪═══════════╪════════════╪════════════╡\n",
              "│ abercda01 ┆ 1871   ┆ 1     ┆ TRO    ┆ … ┆ aberd101 ┆ abercda01 ┆ 1939-11-11 ┆ 1850-01-02 │\n",
              "│ addybo01  ┆ 1871   ┆ 1     ┆ RC1    ┆ … ┆ addyb101 ┆ addybo01  ┆ 1910-04-09 ┆ null       │\n",
              "│ allisar01 ┆ 1871   ┆ 1     ┆ CL1    ┆ … ┆ allia101 ┆ allisar01 ┆ 1916-02-25 ┆ 1849-01-29 │\n",
              "│ allisdo01 ┆ 1871   ┆ 1     ┆ WS3    ┆ … ┆ allid101 ┆ allisdo01 ┆ 1916-12-19 ┆ 1846-07-12 │\n",
              "│ ansonca01 ┆ 1871   ┆ 1     ┆ RC1    ┆ … ┆ ansoc101 ┆ ansonca01 ┆ 1922-04-14 ┆ 1852-04-17 │\n",
              "└───────────┴────────┴───────┴────────┴───┴──────────┴───────────┴────────────┴────────────┘"
            ],
            "text/html": [
              "<div><style>\n",
              ".dataframe > thead > tr,\n",
              ".dataframe > tbody > tr {\n",
              "  text-align: right;\n",
              "  white-space: pre-wrap;\n",
              "}\n",
              "</style>\n",
              "<small>shape: (5, 47)</small><table border=\"1\" class=\"dataframe\"><thead><tr><th>playerID</th><th>yearID</th><th>stint</th><th>teamID</th><th>lgID</th><th>G</th><th>AB</th><th>R</th><th>H</th><th>X2B</th><th>X3B</th><th>HR</th><th>RBI</th><th>SB</th><th>CS</th><th>BB</th><th>SO</th><th>IBB</th><th>HBP</th><th>SH</th><th>SF</th><th>GIDP</th><th>birthYear</th><th>birthMonth</th><th>birthDay</th><th>birthCountry</th><th>birthState</th><th>birthCity</th><th>deathYear</th><th>deathMonth</th><th>deathDay</th><th>deathCountry</th><th>deathState</th><th>deathCity</th><th>nameFirst</th><th>nameLast</th><th>nameGiven</th><th>weight</th><th>height</th><th>bats</th><th>throws</th><th>debut</th><th>finalGame</th><th>retroID</th><th>bbrefID</th><th>deathDate</th><th>birthDate</th></tr><tr><td>str</td><td>i64</td><td>i64</td><td>str</td><td>str</td><td>i64</td><td>i64</td><td>i64</td><td>i64</td><td>i64</td><td>i64</td><td>i64</td><td>i64</td><td>i64</td><td>i64</td><td>i64</td><td>i64</td><td>str</td><td>str</td><td>str</td><td>str</td><td>i64</td><td>i64</td><td>i64</td><td>i64</td><td>str</td><td>str</td><td>str</td><td>i64</td><td>i64</td><td>i64</td><td>str</td><td>str</td><td>str</td><td>str</td><td>str</td><td>str</td><td>i64</td><td>i64</td><td>str</td><td>str</td><td>str</td><td>str</td><td>str</td><td>str</td><td>str</td><td>str</td></tr></thead><tbody><tr><td>&quot;abercda01&quot;</td><td>1871</td><td>1</td><td>&quot;TRO&quot;</td><td>null</td><td>1</td><td>4</td><td>0</td><td>0</td><td>0</td><td>0</td><td>0</td><td>0</td><td>0</td><td>0</td><td>0</td><td>0</td><td>null</td><td>null</td><td>null</td><td>null</td><td>0</td><td>1850</td><td>1</td><td>2</td><td>&quot;USA&quot;</td><td>&quot;OK&quot;</td><td>&quot;Fort Towson&quot;</td><td>1939</td><td>11</td><td>11</td><td>&quot;USA&quot;</td><td>&quot;PA&quot;</td><td>&quot;Philadelphia&quot;</td><td>&quot;Frank&quot;</td><td>&quot;Abercrombie&quot;</td><td>&quot;Francis Patterson&quot;</td><td>null</td><td>null</td><td>null</td><td>null</td><td>&quot;1871-10-21&quot;</td><td>&quot;1871-10-21&quot;</td><td>&quot;aberd101&quot;</td><td>&quot;abercda01&quot;</td><td>&quot;1939-11-11&quot;</td><td>&quot;1850-01-02&quot;</td></tr><tr><td>&quot;addybo01&quot;</td><td>1871</td><td>1</td><td>&quot;RC1&quot;</td><td>null</td><td>25</td><td>118</td><td>30</td><td>32</td><td>6</td><td>0</td><td>0</td><td>13</td><td>8</td><td>1</td><td>4</td><td>0</td><td>null</td><td>null</td><td>null</td><td>null</td><td>0</td><td>1842</td><td>2</td><td>null</td><td>&quot;CAN&quot;</td><td>&quot;ON&quot;</td><td>&quot;Port Hope&quot;</td><td>1910</td><td>4</td><td>9</td><td>&quot;USA&quot;</td><td>&quot;ID&quot;</td><td>&quot;Pocatello&quot;</td><td>&quot;Bob&quot;</td><td>&quot;Addy&quot;</td><td>&quot;Robert Edward&quot;</td><td>160</td><td>68</td><td>&quot;L&quot;</td><td>&quot;L&quot;</td><td>&quot;1871-05-06&quot;</td><td>&quot;1877-10-06&quot;</td><td>&quot;addyb101&quot;</td><td>&quot;addybo01&quot;</td><td>&quot;1910-04-09&quot;</td><td>null</td></tr><tr><td>&quot;allisar01&quot;</td><td>1871</td><td>1</td><td>&quot;CL1&quot;</td><td>null</td><td>29</td><td>137</td><td>28</td><td>40</td><td>4</td><td>5</td><td>0</td><td>19</td><td>3</td><td>1</td><td>2</td><td>5</td><td>null</td><td>null</td><td>null</td><td>null</td><td>1</td><td>1849</td><td>1</td><td>29</td><td>&quot;USA&quot;</td><td>&quot;PA&quot;</td><td>&quot;Philadelphia&quot;</td><td>1916</td><td>2</td><td>25</td><td>&quot;USA&quot;</td><td>&quot;DC&quot;</td><td>&quot;Washington&quot;</td><td>&quot;Art&quot;</td><td>&quot;Allison&quot;</td><td>&quot;Arthur Algernon&quot;</td><td>150</td><td>68</td><td>null</td><td>null</td><td>&quot;1871-05-04&quot;</td><td>&quot;1876-10-05&quot;</td><td>&quot;allia101&quot;</td><td>&quot;allisar01&quot;</td><td>&quot;1916-02-25&quot;</td><td>&quot;1849-01-29&quot;</td></tr><tr><td>&quot;allisdo01&quot;</td><td>1871</td><td>1</td><td>&quot;WS3&quot;</td><td>null</td><td>27</td><td>133</td><td>28</td><td>44</td><td>10</td><td>2</td><td>2</td><td>27</td><td>1</td><td>1</td><td>0</td><td>2</td><td>null</td><td>null</td><td>null</td><td>null</td><td>0</td><td>1846</td><td>7</td><td>12</td><td>&quot;USA&quot;</td><td>&quot;PA&quot;</td><td>&quot;Philadelphia&quot;</td><td>1916</td><td>12</td><td>19</td><td>&quot;USA&quot;</td><td>&quot;DC&quot;</td><td>&quot;Washington&quot;</td><td>&quot;Doug&quot;</td><td>&quot;Allison&quot;</td><td>&quot;Douglas L.&quot;</td><td>160</td><td>70</td><td>&quot;R&quot;</td><td>&quot;R&quot;</td><td>&quot;1871-05-05&quot;</td><td>&quot;1883-07-13&quot;</td><td>&quot;allid101&quot;</td><td>&quot;allisdo01&quot;</td><td>&quot;1916-12-19&quot;</td><td>&quot;1846-07-12&quot;</td></tr><tr><td>&quot;ansonca01&quot;</td><td>1871</td><td>1</td><td>&quot;RC1&quot;</td><td>null</td><td>25</td><td>120</td><td>29</td><td>39</td><td>11</td><td>3</td><td>0</td><td>16</td><td>6</td><td>2</td><td>2</td><td>1</td><td>null</td><td>null</td><td>null</td><td>null</td><td>0</td><td>1852</td><td>4</td><td>17</td><td>&quot;USA&quot;</td><td>&quot;IA&quot;</td><td>&quot;Marshalltown&quot;</td><td>1922</td><td>4</td><td>14</td><td>&quot;USA&quot;</td><td>&quot;IL&quot;</td><td>&quot;Chicago&quot;</td><td>&quot;Cap&quot;</td><td>&quot;Anson&quot;</td><td>&quot;Adrian Constantine&quot;</td><td>227</td><td>72</td><td>&quot;R&quot;</td><td>&quot;R&quot;</td><td>&quot;1871-05-06&quot;</td><td>&quot;1897-10-03&quot;</td><td>&quot;ansoc101&quot;</td><td>&quot;ansonca01&quot;</td><td>&quot;1922-04-14&quot;</td><td>&quot;1852-04-17&quot;</td></tr></tbody></table></div>"
            ]
          },
          "metadata": {},
          "execution_count": 7
        }
      ]
    },
    {
      "cell_type": "code",
      "source": [
        "# Filter for players born in Florida and sum their HR\n",
        "florida_hr_total = (\n",
        "    stats_w_bio\n",
        "    .filter(pl.col(\"birthState\") == \"FL\")  # Filter players born in Florida\n",
        "    .select(pl.col(\"HR\"))                  # Select the HR column\n",
        "    .sum()                                 # Sum the HRs\n",
        ")\n",
        "\n",
        "print(florida_hr_total)"
      ],
      "metadata": {
        "colab": {
          "base_uri": "https://localhost:8080/"
        },
        "id": "icpP96_w-I60",
        "outputId": "ec254c45-3d9c-4ad1-ceed-906982936120"
      },
      "execution_count": null,
      "outputs": [
        {
          "output_type": "stream",
          "name": "stdout",
          "text": [
            "shape: (1, 1)\n",
            "┌───────┐\n",
            "│ HR    │\n",
            "│ ---   │\n",
            "│ i64   │\n",
            "╞═══════╡\n",
            "│ 16225 │\n",
            "└───────┘\n"
          ]
        }
      ]
    },
    {
      "cell_type": "code",
      "source": [
        "# Question 2, part B\n",
        "\n",
        "# Calculate total home runs for players born in Florida\n",
        "florida_hr = (\n",
        "    stats_w_bio\n",
        "    .filter(pl.col(\"birthState\") == \"FL\")   # Filter for Florida-born players\n",
        "    .select(pl.col(\"HR\").sum().alias(\"total_hr\"))  # Sum HR and rename column\n",
        ")\n",
        "\n",
        "florida_hr"
      ],
      "metadata": {
        "colab": {
          "base_uri": "https://localhost:8080/",
          "height": 129
        },
        "id": "tKgQ05Jr_N1_",
        "outputId": "33b5e5ac-5688-4f29-d550-f4977a069cba"
      },
      "execution_count": null,
      "outputs": [
        {
          "output_type": "execute_result",
          "data": {
            "text/plain": [
              "shape: (1, 1)\n",
              "┌──────────┐\n",
              "│ total_hr │\n",
              "│ ---      │\n",
              "│ i64      │\n",
              "╞══════════╡\n",
              "│ 16225    │\n",
              "└──────────┘"
            ],
            "text/html": [
              "<div><style>\n",
              ".dataframe > thead > tr,\n",
              ".dataframe > tbody > tr {\n",
              "  text-align: right;\n",
              "  white-space: pre-wrap;\n",
              "}\n",
              "</style>\n",
              "<small>shape: (1, 1)</small><table border=\"1\" class=\"dataframe\"><thead><tr><th>total_hr</th></tr><tr><td>i64</td></tr></thead><tbody><tr><td>16225</td></tr></tbody></table></div>"
            ]
          },
          "metadata": {},
          "execution_count": 9
        }
      ]
    },
    {
      "cell_type": "code",
      "source": [
        "# Question 3, part A\n",
        "\n",
        "# Filter HallOfFame for inducted players in the Player category\n",
        "hall_inducted = (\n",
        "    HallOfFame\n",
        "    .filter((pl.col(\"inducted\") == \"Y\") & (pl.col(\"category\") == \"Player\"))\n",
        "    .select(\"playerID\")   # Keep only the playerID column\n",
        "    .unique()             # Ensure each playerID is unique\n",
        ")\n",
        "\n",
        "hall_inducted"
      ],
      "metadata": {
        "colab": {
          "base_uri": "https://localhost:8080/",
          "height": 443
        },
        "id": "aJN0vkaYAHJ-",
        "outputId": "bf7c2ffc-62fd-45c3-ef5f-6d9c2b958b6e"
      },
      "execution_count": null,
      "outputs": [
        {
          "output_type": "execute_result",
          "data": {
            "text/plain": [
              "shape: (270, 1)\n",
              "┌───────────┐\n",
              "│ playerID  │\n",
              "│ ---       │\n",
              "│ str       │\n",
              "╞═══════════╡\n",
              "│ ryanno01  │\n",
              "│ brettge01 │\n",
              "│ stargwi01 │\n",
              "│ molitpa01 │\n",
              "│ drysddo01 │\n",
              "│ …         │\n",
              "│ boudrlo01 │\n",
              "│ vaughar01 │\n",
              "│ gwynnto01 │\n",
              "│ schalra01 │\n",
              "│ manushe01 │\n",
              "└───────────┘"
            ],
            "text/html": [
              "<div><style>\n",
              ".dataframe > thead > tr,\n",
              ".dataframe > tbody > tr {\n",
              "  text-align: right;\n",
              "  white-space: pre-wrap;\n",
              "}\n",
              "</style>\n",
              "<small>shape: (270, 1)</small><table border=\"1\" class=\"dataframe\"><thead><tr><th>playerID</th></tr><tr><td>str</td></tr></thead><tbody><tr><td>&quot;ryanno01&quot;</td></tr><tr><td>&quot;brettge01&quot;</td></tr><tr><td>&quot;stargwi01&quot;</td></tr><tr><td>&quot;molitpa01&quot;</td></tr><tr><td>&quot;drysddo01&quot;</td></tr><tr><td>&hellip;</td></tr><tr><td>&quot;boudrlo01&quot;</td></tr><tr><td>&quot;vaughar01&quot;</td></tr><tr><td>&quot;gwynnto01&quot;</td></tr><tr><td>&quot;schalra01&quot;</td></tr><tr><td>&quot;manushe01&quot;</td></tr></tbody></table></div>"
            ]
          },
          "metadata": {},
          "execution_count": 10
        }
      ]
    },
    {
      "cell_type": "code",
      "source": [
        "# Join Batting with hall_inducted to get stats only for Hall of Famers\n",
        "hof_batting_stats = Batting.join(\n",
        "    hall_inducted,\n",
        "    on=\"playerID\",\n",
        "    how=\"inner\"  # Keep only players who are in hall_inducted\n",
        ")\n",
        "\n",
        "# Calculate total career hits per player\n",
        "career_hits = (\n",
        "    hof_batting_stats\n",
        "    .group_by(\"playerID\")\n",
        "    .agg(pl.col(\"H\").sum().alias(\"career_hits\"))\n",
        ")\n",
        "\n",
        "# Calculate the average career hits for all Hall of Famers\n",
        "average_career_hits = career_hits.select(pl.col(\"career_hits\").mean().alias(\"avg_career_hits\"))\n",
        "\n",
        "average_career_hits"
      ],
      "metadata": {
        "colab": {
          "base_uri": "https://localhost:8080/",
          "height": 129
        },
        "id": "FbnDp_QlAm0y",
        "outputId": "a3e49dd6-4c01-4b86-f983-70a84b865c32"
      },
      "execution_count": null,
      "outputs": [
        {
          "output_type": "execute_result",
          "data": {
            "text/plain": [
              "shape: (1, 1)\n",
              "┌─────────────────┐\n",
              "│ avg_career_hits │\n",
              "│ ---             │\n",
              "│ f64             │\n",
              "╞═════════════════╡\n",
              "│ 1717.29918      │\n",
              "└─────────────────┘"
            ],
            "text/html": [
              "<div><style>\n",
              ".dataframe > thead > tr,\n",
              ".dataframe > tbody > tr {\n",
              "  text-align: right;\n",
              "  white-space: pre-wrap;\n",
              "}\n",
              "</style>\n",
              "<small>shape: (1, 1)</small><table border=\"1\" class=\"dataframe\"><thead><tr><th>avg_career_hits</th></tr><tr><td>f64</td></tr></thead><tbody><tr><td>1717.29918</td></tr></tbody></table></div>"
            ]
          },
          "metadata": {},
          "execution_count": 12
        }
      ]
    },
    {
      "cell_type": "code",
      "source": [
        "# Question 3, part B\n",
        "\n",
        "# Join Batting with hall_inducted to get only Hall of Fame players' stats\n",
        "hof_batting_stats1 = Batting.join(\n",
        "    hall_inducted,\n",
        "    on=\"playerID\",\n",
        "    how=\"inner\"\n",
        ")\n",
        "\n",
        "# Calculate total career hits per player\n",
        "career_hits = hof_batting_stats.group_by(\"playerID\").agg(\n",
        "    pl.col(\"H\").sum().alias(\"total_hits\")\n",
        ")\n",
        "\n",
        "# Calculate the average career hits across all Hall of Famers\n",
        "hof_hits = career_hits.select(\n",
        "    pl.col(\"total_hits\").mean().alias(\"average_hits\")\n",
        ")\n",
        "\n",
        "hof_hits"
      ],
      "metadata": {
        "colab": {
          "base_uri": "https://localhost:8080/",
          "height": 129
        },
        "id": "QIE0b0cVA7RH",
        "outputId": "f3e7894a-bb95-4a37-b1ce-0e8c06429ee4"
      },
      "execution_count": null,
      "outputs": [
        {
          "output_type": "execute_result",
          "data": {
            "text/plain": [
              "shape: (1, 1)\n",
              "┌──────────────┐\n",
              "│ average_hits │\n",
              "│ ---          │\n",
              "│ f64          │\n",
              "╞══════════════╡\n",
              "│ 1717.29918   │\n",
              "└──────────────┘"
            ],
            "text/html": [
              "<div><style>\n",
              ".dataframe > thead > tr,\n",
              ".dataframe > tbody > tr {\n",
              "  text-align: right;\n",
              "  white-space: pre-wrap;\n",
              "}\n",
              "</style>\n",
              "<small>shape: (1, 1)</small><table border=\"1\" class=\"dataframe\"><thead><tr><th>average_hits</th></tr><tr><td>f64</td></tr></thead><tbody><tr><td>1717.29918</td></tr></tbody></table></div>"
            ]
          },
          "metadata": {},
          "execution_count": 14
        }
      ]
    }
  ]
}